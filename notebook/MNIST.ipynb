{
 "cells": [
  {
   "cell_type": "markdown",
   "id": "63acfaf9-7b6b-42f4-8810-1b3fdbc9e744",
   "metadata": {},
   "source": [
    "# This is a simple digit recognition model using the MNIST dataset.\n",
    "#### while ANN requires expensive setup, this model uses Logistic Regression, which consumes less computational power but predicts 92.30% accurate results!"
   ]
  },
  {
   "cell_type": "markdown",
   "id": "b1af521a-d9c5-4752-b248-a7323c81fe42",
   "metadata": {},
   "source": [
    "### Imports and loading the data"
   ]
  },
  {
   "cell_type": "code",
   "execution_count": 100,
   "id": "9ecfffcd-2f80-406e-94ee-f98045e55361",
   "metadata": {},
   "outputs": [],
   "source": [
    "import numpy as np\n",
    "import pandas as pd\n",
    "import matplotlib.pyplot as plt"
   ]
  },
  {
   "cell_type": "code",
   "execution_count": 101,
   "id": "749cc41e-b1da-4c8c-9c37-c4e230a9ab44",
   "metadata": {},
   "outputs": [],
   "source": [
    "train_data = pd.read_csv('/home/kandarpa-sarkar/Desktop/MNIST_proj/data/train_test/mnist_train.csv')\n",
    "test_data = pd.read_csv('/home/kandarpa-sarkar/Desktop/MNIST_proj/data/train_test/mnist_test.csv')"
   ]
  },
  {
   "cell_type": "code",
   "execution_count": 102,
   "id": "79e3176a-c9fb-4b90-a333-fe4ac4f6fc06",
   "metadata": {},
   "outputs": [
    {
     "name": "stdout",
     "output_type": "stream",
     "text": [
      "(60000, 785) (10000, 785)\n"
     ]
    }
   ],
   "source": [
    "print(train_data.shape,test_data.shape)"
   ]
  },
  {
   "cell_type": "code",
   "execution_count": 103,
   "id": "227fc50c-3eb0-47ea-81b0-163eebe6449f",
   "metadata": {},
   "outputs": [
    {
     "data": {
      "text/html": [
       "<div>\n",
       "<style scoped>\n",
       "    .dataframe tbody tr th:only-of-type {\n",
       "        vertical-align: middle;\n",
       "    }\n",
       "\n",
       "    .dataframe tbody tr th {\n",
       "        vertical-align: top;\n",
       "    }\n",
       "\n",
       "    .dataframe thead th {\n",
       "        text-align: right;\n",
       "    }\n",
       "</style>\n",
       "<table border=\"1\" class=\"dataframe\">\n",
       "  <thead>\n",
       "    <tr style=\"text-align: right;\">\n",
       "      <th></th>\n",
       "      <th>label</th>\n",
       "      <th>1x1</th>\n",
       "      <th>1x2</th>\n",
       "      <th>1x3</th>\n",
       "      <th>1x4</th>\n",
       "      <th>1x5</th>\n",
       "      <th>1x6</th>\n",
       "      <th>1x7</th>\n",
       "      <th>1x8</th>\n",
       "      <th>1x9</th>\n",
       "      <th>...</th>\n",
       "      <th>28x19</th>\n",
       "      <th>28x20</th>\n",
       "      <th>28x21</th>\n",
       "      <th>28x22</th>\n",
       "      <th>28x23</th>\n",
       "      <th>28x24</th>\n",
       "      <th>28x25</th>\n",
       "      <th>28x26</th>\n",
       "      <th>28x27</th>\n",
       "      <th>28x28</th>\n",
       "    </tr>\n",
       "  </thead>\n",
       "  <tbody>\n",
       "    <tr>\n",
       "      <th>0</th>\n",
       "      <td>5</td>\n",
       "      <td>0</td>\n",
       "      <td>0</td>\n",
       "      <td>0</td>\n",
       "      <td>0</td>\n",
       "      <td>0</td>\n",
       "      <td>0</td>\n",
       "      <td>0</td>\n",
       "      <td>0</td>\n",
       "      <td>0</td>\n",
       "      <td>...</td>\n",
       "      <td>0</td>\n",
       "      <td>0</td>\n",
       "      <td>0</td>\n",
       "      <td>0</td>\n",
       "      <td>0</td>\n",
       "      <td>0</td>\n",
       "      <td>0</td>\n",
       "      <td>0</td>\n",
       "      <td>0</td>\n",
       "      <td>0</td>\n",
       "    </tr>\n",
       "    <tr>\n",
       "      <th>1</th>\n",
       "      <td>0</td>\n",
       "      <td>0</td>\n",
       "      <td>0</td>\n",
       "      <td>0</td>\n",
       "      <td>0</td>\n",
       "      <td>0</td>\n",
       "      <td>0</td>\n",
       "      <td>0</td>\n",
       "      <td>0</td>\n",
       "      <td>0</td>\n",
       "      <td>...</td>\n",
       "      <td>0</td>\n",
       "      <td>0</td>\n",
       "      <td>0</td>\n",
       "      <td>0</td>\n",
       "      <td>0</td>\n",
       "      <td>0</td>\n",
       "      <td>0</td>\n",
       "      <td>0</td>\n",
       "      <td>0</td>\n",
       "      <td>0</td>\n",
       "    </tr>\n",
       "    <tr>\n",
       "      <th>2</th>\n",
       "      <td>4</td>\n",
       "      <td>0</td>\n",
       "      <td>0</td>\n",
       "      <td>0</td>\n",
       "      <td>0</td>\n",
       "      <td>0</td>\n",
       "      <td>0</td>\n",
       "      <td>0</td>\n",
       "      <td>0</td>\n",
       "      <td>0</td>\n",
       "      <td>...</td>\n",
       "      <td>0</td>\n",
       "      <td>0</td>\n",
       "      <td>0</td>\n",
       "      <td>0</td>\n",
       "      <td>0</td>\n",
       "      <td>0</td>\n",
       "      <td>0</td>\n",
       "      <td>0</td>\n",
       "      <td>0</td>\n",
       "      <td>0</td>\n",
       "    </tr>\n",
       "    <tr>\n",
       "      <th>3</th>\n",
       "      <td>1</td>\n",
       "      <td>0</td>\n",
       "      <td>0</td>\n",
       "      <td>0</td>\n",
       "      <td>0</td>\n",
       "      <td>0</td>\n",
       "      <td>0</td>\n",
       "      <td>0</td>\n",
       "      <td>0</td>\n",
       "      <td>0</td>\n",
       "      <td>...</td>\n",
       "      <td>0</td>\n",
       "      <td>0</td>\n",
       "      <td>0</td>\n",
       "      <td>0</td>\n",
       "      <td>0</td>\n",
       "      <td>0</td>\n",
       "      <td>0</td>\n",
       "      <td>0</td>\n",
       "      <td>0</td>\n",
       "      <td>0</td>\n",
       "    </tr>\n",
       "    <tr>\n",
       "      <th>4</th>\n",
       "      <td>9</td>\n",
       "      <td>0</td>\n",
       "      <td>0</td>\n",
       "      <td>0</td>\n",
       "      <td>0</td>\n",
       "      <td>0</td>\n",
       "      <td>0</td>\n",
       "      <td>0</td>\n",
       "      <td>0</td>\n",
       "      <td>0</td>\n",
       "      <td>...</td>\n",
       "      <td>0</td>\n",
       "      <td>0</td>\n",
       "      <td>0</td>\n",
       "      <td>0</td>\n",
       "      <td>0</td>\n",
       "      <td>0</td>\n",
       "      <td>0</td>\n",
       "      <td>0</td>\n",
       "      <td>0</td>\n",
       "      <td>0</td>\n",
       "    </tr>\n",
       "  </tbody>\n",
       "</table>\n",
       "<p>5 rows × 785 columns</p>\n",
       "</div>"
      ],
      "text/plain": [
       "   label  1x1  1x2  1x3  1x4  1x5  1x6  1x7  1x8  1x9  ...  28x19  28x20  \\\n",
       "0      5    0    0    0    0    0    0    0    0    0  ...      0      0   \n",
       "1      0    0    0    0    0    0    0    0    0    0  ...      0      0   \n",
       "2      4    0    0    0    0    0    0    0    0    0  ...      0      0   \n",
       "3      1    0    0    0    0    0    0    0    0    0  ...      0      0   \n",
       "4      9    0    0    0    0    0    0    0    0    0  ...      0      0   \n",
       "\n",
       "   28x21  28x22  28x23  28x24  28x25  28x26  28x27  28x28  \n",
       "0      0      0      0      0      0      0      0      0  \n",
       "1      0      0      0      0      0      0      0      0  \n",
       "2      0      0      0      0      0      0      0      0  \n",
       "3      0      0      0      0      0      0      0      0  \n",
       "4      0      0      0      0      0      0      0      0  \n",
       "\n",
       "[5 rows x 785 columns]"
      ]
     },
     "execution_count": 103,
     "metadata": {},
     "output_type": "execute_result"
    }
   ],
   "source": [
    "train_data.head()"
   ]
  },
  {
   "cell_type": "code",
   "execution_count": 104,
   "id": "5ca8ba26-afce-495a-9f81-b03e2042e164",
   "metadata": {},
   "outputs": [],
   "source": [
    "X_train = train_data.drop(train_data.columns[0], axis=1)\n",
    "y_train = train_data[train_data.columns[0]]\n",
    "\n",
    "X_test = test_data.drop(test_data.columns[0], axis=1)\n",
    "y_test = test_data[test_data.columns[0]]"
   ]
  },
  {
   "cell_type": "code",
   "execution_count": 105,
   "id": "25b72005-7514-4871-b96d-0c5710185bca",
   "metadata": {},
   "outputs": [],
   "source": [
    "# Normalizing the data\n",
    "X_train = np.array(X_train)/255\n",
    "y_train = np.array(y_train)\n",
    "\n",
    "X_test = np.array(X_test)/255\n",
    "y_test = np.array(y_test)"
   ]
  },
  {
   "cell_type": "markdown",
   "id": "e87e2113-bc57-4b9c-a8d5-5788ba0e9e76",
   "metadata": {},
   "source": [
    "### We now need to encode the output data so that we can compute loss "
   ]
  },
  {
   "cell_type": "code",
   "execution_count": 106,
   "id": "36ab3bbf-ce12-4c06-973c-7ec001b41586",
   "metadata": {},
   "outputs": [],
   "source": [
    "classes = 10 # We have 10 classes, Y = [1,2,3,...,10]\n",
    "y_train_encoded = np.eye(classes)[y_train]\n",
    "y_test_encoded = np.eye(classes)[y_test]"
   ]
  },
  {
   "cell_type": "markdown",
   "id": "b9d55a1c-c3f6-4e3f-a259-ff47fdd29d3b",
   "metadata": {},
   "source": [
    "### We will be using softmax function for predicting multiple classess, and the loss function in the next cell"
   ]
  },
  {
   "cell_type": "code",
   "execution_count": 107,
   "id": "23906e86-0014-4ea7-b668-86f6320b0e38",
   "metadata": {},
   "outputs": [],
   "source": [
    "def softmax(z):\n",
    "    exp_z = np.exp(z - np.max(z, axis=1, keepdims=True)) \n",
    "    return exp_z / np.sum(exp_z, axis=1, keepdims=True)"
   ]
  },
  {
   "cell_type": "code",
   "execution_count": 108,
   "id": "4f904470-095e-4c3a-968b-1128ac9c14ea",
   "metadata": {},
   "outputs": [],
   "source": [
    "def cross_entropy_loss(Prob, y):\n",
    "    N = y.shape[0]\n",
    "    loss = -np.sum(y * np.log(Prob + 1e-15)) / N\n",
    "    return loss"
   ]
  },
  {
   "cell_type": "markdown",
   "id": "e0dd85a7-cf1c-4fa5-90df-acdd3d7fc914",
   "metadata": {},
   "source": [
    "### Now the most important part comes that is implementing Gradient descent to obtain the best weights(W) and bias(b)"
   ]
  },
  {
   "cell_type": "code",
   "execution_count": 109,
   "id": "4654ba76-85bc-4503-a9ca-02c597aee368",
   "metadata": {},
   "outputs": [
    {
     "name": "stdout",
     "output_type": "stream",
     "text": [
      "Epoch 0, Loss: 0.6119\n",
      "Epoch 10, Loss: 0.5674\n",
      "Epoch 20, Loss: 0.4398\n",
      "Epoch 30, Loss: 0.2640\n",
      "Epoch 40, Loss: 0.3783\n",
      "Epoch 50, Loss: 0.1012\n",
      "Epoch 60, Loss: 0.4951\n",
      "Epoch 70, Loss: 0.3611\n",
      "Epoch 80, Loss: 0.1944\n",
      "Epoch 90, Loss: 0.4308\n",
      "Epoch 100, Loss: 0.2351\n",
      "Epoch 110, Loss: 0.0533\n",
      "Epoch 120, Loss: 0.2585\n",
      "Epoch 130, Loss: 0.0493\n",
      "Epoch 140, Loss: 0.2764\n",
      "Epoch 150, Loss: 0.1709\n",
      "Epoch 160, Loss: 0.3224\n",
      "Epoch 170, Loss: 0.1442\n",
      "Epoch 180, Loss: 0.0701\n",
      "Epoch 190, Loss: 0.1607\n",
      "Epoch 199, Loss: 0.0947\n",
      "[[0. 0. 0. ... 0. 0. 0.]\n",
      " [0. 0. 0. ... 0. 0. 0.]\n",
      " [0. 0. 0. ... 0. 0. 0.]\n",
      " ...\n",
      " [0. 0. 0. ... 0. 0. 0.]\n",
      " [0. 0. 0. ... 0. 0. 0.]\n",
      " [0. 0. 0. ... 0. 0. 0.]] [[-0.70832748  0.54213054  0.21743411 -0.45056767 -0.00303908  2.01076639\n",
      "  -0.21214216  1.07830953 -2.05938352 -0.41518067]]\n"
     ]
    }
   ],
   "source": [
    "def gradient_descent(X, y, epochs, learning_rate, batch_size):\n",
    "    num_samples, num_features = X.shape\n",
    "    num_classes = y.shape[1]\n",
    "    \n",
    "    # Initialize weights and biases\n",
    "    W = np.zeros((num_features, num_classes))  # Shape: (features x classes)\n",
    "    b = np.zeros((1, num_classes))              # Shape: (1 x classes)\n",
    "\n",
    "    # Iterate over epochs\n",
    "    for epoch in range(epochs):\n",
    "        # Shuffle the dataset at the beginning of each epoch\n",
    "        indices = np.random.permutation(num_samples)\n",
    "        X_shuffled = X[indices]\n",
    "        y_shuffled = y[indices]\n",
    "\n",
    "        # Process in mini-batches\n",
    "        for batch_start in range(0, num_samples, batch_size):\n",
    "            # Get the current mini-batch\n",
    "            X_batch = X_shuffled[batch_start:batch_start + batch_size]\n",
    "            y_batch = y_shuffled[batch_start:batch_start + batch_size]\n",
    "\n",
    "            # Forward pass\n",
    "            Z = np.dot(X_batch, W) + b            # Shape: (batch_size x num_classes)\n",
    "            Prob = softmax(Z)                     # Shape: (batch_size x num_classes)\n",
    "\n",
    "            # Compute loss\n",
    "            loss = cross_entropy_loss(Prob, y_batch)\n",
    "\n",
    "            # Compute gradients\n",
    "            dW = np.dot(X_batch.T, (Prob - y_batch)) / batch_size  # Gradient for weights\n",
    "            db = np.sum(Prob - y_batch, axis=0, keepdims=True) / batch_size  # Gradient for biases\n",
    "\n",
    "            # Update parameters\n",
    "            W -= learning_rate * dW\n",
    "            b -= learning_rate * db\n",
    "\n",
    "        # Print loss every 10 epochs (or the last epoch)\n",
    "        if epoch % 10 == 0 or epoch == epochs - 1:\n",
    "            print(f\"Epoch {epoch}, Loss: {loss:.4f}\")\n",
    "            \n",
    "    return W,b # Return the best weights and biases that minimize loss\n",
    "\n",
    "\n",
    "w,b = gradient_descent(X_train, y_train_encoded, epochs=200, learning_rate=0.01, batch_size=64)\n",
    "print(w,b)"
   ]
  },
  {
   "cell_type": "markdown",
   "id": "09c0eed0-fcb8-4664-9364-1c5d04b99b46",
   "metadata": {},
   "source": [
    "### Saving the weights for later use"
   ]
  },
  {
   "cell_type": "code",
   "execution_count": 110,
   "id": "dd45af38-e081-41a6-b03b-eff6a2fa0582",
   "metadata": {},
   "outputs": [
    {
     "name": "stdout",
     "output_type": "stream",
     "text": [
      "[[0. 0. 0. ... 0. 0. 0.]\n",
      " [0. 0. 0. ... 0. 0. 0.]\n",
      " [0. 0. 0. ... 0. 0. 0.]\n",
      " ...\n",
      " [0. 0. 0. ... 0. 0. 0.]\n",
      " [0. 0. 0. ... 0. 0. 0.]\n",
      " [0. 0. 0. ... 0. 0. 0.]] [[-0.70832748  0.54213054  0.21743411 -0.45056767 -0.00303908  2.01076639\n",
      "  -0.21214216  1.07830953 -2.05938352 -0.41518067]]\n"
     ]
    }
   ],
   "source": [
    "np.savez(\"best_weights.npz\", w=w, b=b)\n",
    "print(w,b)"
   ]
  },
  {
   "cell_type": "markdown",
   "id": "76e6a00d-eebc-4250-b287-f8c0b643b983",
   "metadata": {},
   "source": [
    "### After computing the accuracy I found that the model prdicts 92.30% accurate outputs"
   ]
  },
  {
   "cell_type": "code",
   "execution_count": 111,
   "id": "86f0d9bc-178e-4418-84ee-c54dc6036692",
   "metadata": {},
   "outputs": [
    {
     "name": "stdout",
     "output_type": "stream",
     "text": [
      "Test Accuracy: 92.45%\n"
     ]
    }
   ],
   "source": [
    "def predict(X, W, b):\n",
    "    \"\"\"\n",
    "    Predict the classes for the given input data.\n",
    "    Args:\n",
    "        X (numpy.ndarray): Input data of shape (N_samples, N_features)\n",
    "        W (numpy.ndarray): Learned weights of shape (N_features, N_classes)\n",
    "        b (numpy.ndarray): Learned biases of shape (1, N_classes)\n",
    "    Returns:\n",
    "        numpy.ndarray: Predicted classes of shape (N_samples,)\n",
    "    \"\"\"\n",
    "    Z = np.dot(X, W) + b               # Compute logits\n",
    "    Prob = softmax(Z)                  # Apply softmax to get probabilities\n",
    "    predictions = np.argmax(Prob, axis=1)  # Get the class with the highest probability\n",
    "    return predictions\n",
    "\n",
    "# Predict on test data\n",
    "y_pred = predict(X_test, w, b)\n",
    "\n",
    "# Calculate accuracy\n",
    "accuracy = np.mean(y_pred == np.argmax(y_test_encoded, axis=1))  # Compare with true labels\n",
    "print(f\"Test Accuracy: {accuracy*100}%\")\n"
   ]
  },
  {
   "cell_type": "markdown",
   "id": "d08fa060-569d-4c11-836c-a657e1a7df97",
   "metadata": {},
   "source": [
    "### Now test with the unknown data from the test set"
   ]
  },
  {
   "cell_type": "code",
   "execution_count": 112,
   "id": "7da0bda7-0dc1-4701-8cb5-3582529734f3",
   "metadata": {},
   "outputs": [
    {
     "data": {
      "image/png": "[encoded data removed]",
      "text/plain": [
       "<Figure size 1500x1000 with 20 Axes>"
      ]
     },
     "metadata": {},
     "output_type": "display_data"
    }
   ],
   "source": [
    "def plot_mnist_images(X, y, num_images=20):\n",
    "    \"\"\"\n",
    "    Display multiple MNIST images in a grid without overlap.\n",
    "    \n",
    "    Args:\n",
    "        X (numpy.ndarray): Image data.\n",
    "        y (numpy.ndarray): Labels (one-hot encoded or class labels).\n",
    "        num_images (int): Number of images to display.\n",
    "    \"\"\"\n",
    "    # Calculate the grid dimensions (rows, columns)\n",
    "    num_rows = 4  # 4 rows\n",
    "    num_cols = 5  # 5 columns\n",
    "    fig, axes = plt.subplots(num_rows, num_cols, figsize=(15, 10))\n",
    "    \n",
    "    for i in range(num_images):\n",
    "        # Find the row and column index\n",
    "        row = i // num_cols\n",
    "        col = i % num_cols\n",
    "        \n",
    "        # Get the image and label\n",
    "        image = X[i].reshape(28, 28)  # Reshape the image to 28x28\n",
    "        label = np.argmax(y[i]) if y.ndim > 1 else y[i]  # Get the label\n",
    "        \n",
    "        # Display the image\n",
    "        axes[row, col].imshow(image, cmap='gray')\n",
    "        axes[row, col].set_title(f\"Label: {label}\")\n",
    "        axes[row, col].axis('off')  # Turn off axis\n",
    "\n",
    "    plt.tight_layout()  # Adjust the spacing between subplots\n",
    "    plt.show()\n",
    "\n",
    "# Visualize the first 20 test images\n",
    "plot_mnist_images(X_test, y_test, num_images=20)\n"
   ]
  },
  {
   "cell_type": "markdown",
   "id": "cb81bd69-3314-4215-a403-8485a817f150",
   "metadata": {},
   "source": [
    "## I created a small test file for predicting how the model performs, but as expected it is predicting some digits (4 and 7) wrong as my images wasn't scanned & processed properly also this is not a Neural Net model.\n",
    "\n",
    "## But still it is performing quite well!"
   ]
  },
  {
   "cell_type": "code",
   "execution_count": 113,
   "id": "787cebaf-657e-4d36-80e7-afaef81233c9",
   "metadata": {},
   "outputs": [
    {
     "name": "stdout",
     "output_type": "stream",
     "text": [
      "Directory selected: /home/kandarpa-sarkar/Desktop/MNIST_proj/notebook\n",
      "Directory exists: True\n",
      "Found 8 image(s).\n",
      "Processing file: /home/kandarpa-sarkar/Desktop/MNIST_proj/notebook/sample_7(1).jpg\n"
     ]
    },
    {
     "data": {
      "image/png": "[encoded data removed]",
      "text/plain": [
       "<Figure size 640x480 with 1 Axes>"
      ]
     },
     "metadata": {},
     "output_type": "display_data"
    },
    {
     "name": "stdout",
     "output_type": "stream",
     "text": [
      "Processing file: /home/kandarpa-sarkar/Desktop/MNIST_proj/notebook/sample_1.jpg\n"
     ]
    },
    {
     "data": {
      "image/png": "[encoded data removed]",
      "text/plain": [
       "<Figure size 640x480 with 1 Axes>"
      ]
     },
     "metadata": {},
     "output_type": "display_data"
    },
    {
     "name": "stdout",
     "output_type": "stream",
     "text": [
      "Processing file: /home/kandarpa-sarkar/Desktop/MNIST_proj/notebook/sample_6.jpg\n"
     ]
    },
    {
     "data": {
      "image/png": "[encoded data removed]",
      "text/plain": [
       "<Figure size 640x480 with 1 Axes>"
      ]
     },
     "metadata": {},
     "output_type": "display_data"
    },
    {
     "name": "stdout",
     "output_type": "stream",
     "text": [
      "Processing file: /home/kandarpa-sarkar/Desktop/MNIST_proj/notebook/sample_5.jpg\n"
     ]
    },
    {
     "data": {
      "image/png": "[encoded data removed]",
      "text/plain": [
       "<Figure size 640x480 with 1 Axes>"
      ]
     },
     "metadata": {},
     "output_type": "display_data"
    },
    {
     "name": "stdout",
     "output_type": "stream",
     "text": [
      "Processing file: /home/kandarpa-sarkar/Desktop/MNIST_proj/notebook/sample_2(1).jpg\n"
     ]
    },
    {
     "data": {
      "image/png": "[encoded data removed]",
      "text/plain": [
       "<Figure size 640x480 with 1 Axes>"
      ]
     },
     "metadata": {},
     "output_type": "display_data"
    },
    {
     "name": "stdout",
     "output_type": "stream",
     "text": [
      "Processing file: /home/kandarpa-sarkar/Desktop/MNIST_proj/notebook/sample_5(1).jpg\n"
     ]
    },
    {
     "data": {
      "image/png": "[encoded data removed]",
      "text/plain": [
       "<Figure size 640x480 with 1 Axes>"
      ]
     },
     "metadata": {},
     "output_type": "display_data"
    },
    {
     "name": "stdout",
     "output_type": "stream",
     "text": [
      "Processing file: /home/kandarpa-sarkar/Desktop/MNIST_proj/notebook/sample_4.jpg\n"
     ]
    },
    {
     "data": {
      "image/png": "[encoded data removed]",
      "text/plain": [
       "<Figure size 640x480 with 1 Axes>"
      ]
     },
     "metadata": {},
     "output_type": "display_data"
    },
    {
     "name": "stdout",
     "output_type": "stream",
     "text": [
      "Processing file: /home/kandarpa-sarkar/Desktop/MNIST_proj/notebook/sample_3.jpg\n"
     ]
    },
    {
     "data": {
      "image/png": "[encoded data removed]",
      "text/plain": [
       "<Figure size 640x480 with 1 Axes>"
      ]
     },
     "metadata": {},
     "output_type": "display_data"
    }
   ],
   "source": [
    "import os\n",
    "from PIL import Image\n",
    "\n",
    "def upload_and_predict(W, b):\n",
    "    # Manually specify the directory path here\n",
    "    directory_path = \"/home/kandarpa-sarkar/Desktop/MNIST_proj/notebook\"\n",
    "    print(f\"Directory selected: {directory_path}\")\n",
    "\n",
    "    if directory_path:\n",
    "        # Check if directory exists and is accessible\n",
    "        if os.path.exists(directory_path):\n",
    "            print(f\"Directory exists: {os.path.isdir(directory_path)}\")\n",
    "            if os.path.isdir(directory_path):\n",
    "                # Get all image files\n",
    "                image_files = [os.path.join(directory_path, f) for f in os.listdir(directory_path)\n",
    "                               if f.lower().endswith(('.png', '.jpg', '.jpeg', '.bmp'))]\n",
    "                if not image_files:\n",
    "                    print(\"No valid image files found.\")\n",
    "                    return\n",
    "                else:\n",
    "                    print(f\"Found {len(image_files)} image(s).\")\n",
    "                    for file_path in image_files:\n",
    "                        # Load and preprocess each image\n",
    "                        print(f\"Processing file: {file_path}\")\n",
    "                        img = Image.open(file_path).convert(\"L\")  # Convert to grayscale\n",
    "                        img_resized = img.resize((28, 28))       # Resize to 28x28\n",
    "                        img_array = np.array(img_resized) / 255.0  # Normalize pixel values\n",
    "                        img_inverted = 1 - img_array             # Invert the image\n",
    "                        img_flattened = img_inverted.reshape(1, -1)  # Flatten the image\n",
    "\n",
    "                        # Make prediction\n",
    "                        y_pred = predict(img_flattened, W, b)\n",
    "\n",
    "                        # Visualize the image and prediction\n",
    "                        plt.imshow(img_inverted, cmap=\"gray\")\n",
    "                        plt.title(f\"Prediction: {y_pred[0]}\")\n",
    "                        plt.axis(\"off\")\n",
    "                        plt.show()\n",
    "            else:\n",
    "                print(\"The selected path is not a directory.\")\n",
    "        else:\n",
    "            print(\"The selected path doesn't exist or is inaccessible.\")\n",
    "    else:\n",
    "        print(\"No directory selected.\")\n",
    "\n",
    "\n",
    "upload_and_predict(w, b)\n"
   ]
  },
  {
   "cell_type": "code",
   "execution_count": null,
   "id": "3c0168d2-1633-422f-bfd7-b4b678174541",
   "metadata": {},
   "outputs": [],
   "source": []
  }
 ],
 "metadata": {
  "kernelspec": {
   "display_name": "Python 3 (ipykernel)",
   "language": "python",
   "name": "python3"
  },
  "language_info": {
   "codemirror_mode": {
    "name": "ipython",
    "version": 3
   },
   "file_extension": ".py",
   "mimetype": "text/x-python",
   "name": "python",
   "nbconvert_exporter": "python",
   "pygments_lexer": "ipython3",
   "version": "3.12.7"
  }
 },
 "nbformat": 4,
 "nbformat_minor": 5
}
